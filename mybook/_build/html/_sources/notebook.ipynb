{
 "cells": [
  {
   "cell_type": "markdown",
   "id": "6c4578ea",
   "metadata": {},
   "source": [
    "# 分析範例：簡單的數學"
   ]
  },
  {
   "cell_type": "code",
   "execution_count": null,
   "id": "04fe2b6e",
   "metadata": {},
   "outputs": [],
   "source": [
    "x = 5\n",
    "y = 10\n",
    "x + y"
   ]
  },
  {
   "cell_type": "markdown",
   "id": "adf44336",
   "metadata": {},
   "source": [
    "## 繪圖展示"
   ]
  },
  {
   "cell_type": "code",
   "execution_count": null,
   "id": "aa802c50",
   "metadata": {},
   "outputs": [],
   "source": [
    "import matplotlib.pyplot as plt\n",
    "plt.plot([1,2,3],[4,5,6])\n",
    "plt.title('簡單折線圖')\n",
    "plt.show()"
   ]
  }
 ],
 "metadata": {},
 "nbformat": 4,
 "nbformat_minor": 5
}
